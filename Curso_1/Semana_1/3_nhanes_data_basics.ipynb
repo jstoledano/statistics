{
 "cells": [
  {
   "cell_type": "markdown",
   "id": "7c9da67e",
   "metadata": {},
   "source": [
    "### Librerías usadas\n",
    "\n",
    "Además de **Pandas**, se utilizan las siguientes librerías:\n",
    "    \n",
    "\n",
    "* [Numpy](http://www.numpy.org) is a library for working with arrays of data\n",
    "\n",
    "* [Matplotlib](https://matplotlib.org) is a library for making graphs\n",
    "\n",
    "* [Seaborn](https://seaborn.pydata.org) is a higher-level interface to Matplotlib that can be used to simplify many graphing tasks\n",
    "\n",
    "* [Statsmodels](https://www.statsmodels.org/stable/index.html) is a library that implements many statistical techniques\n",
    "\n",
    "* [Scipy](https://www.scipy.org) is a library of techniques for numerical and scientific computing"
   ]
  },
  {
   "cell_type": "code",
   "execution_count": null,
   "id": "68b8da5e",
   "metadata": {},
   "outputs": [],
   "source": [
    "import pandas as pd"
   ]
  },
  {
   "cell_type": "code",
   "execution_count": 4,
   "id": "7801ae69",
   "metadata": {},
   "outputs": [],
   "source": [
    "url = 'nhanes_2015_2016.csv'\n",
    "da = pd.read_csv(url)"
   ]
  },
  {
   "cell_type": "code",
   "execution_count": 5,
   "id": "689dda5c",
   "metadata": {},
   "outputs": [
    {
     "data": {
      "text/plain": [
       "(5735, 28)"
      ]
     },
     "execution_count": 5,
     "metadata": {},
     "output_type": "execute_result"
    }
   ],
   "source": [
    "da.shape"
   ]
  },
  {
   "cell_type": "code",
   "execution_count": 6,
   "id": "163e2500",
   "metadata": {},
   "outputs": [
    {
     "data": {
      "text/plain": [
       "Index(['SEQN', 'ALQ101', 'ALQ110', 'ALQ130', 'SMQ020', 'RIAGENDR', 'RIDAGEYR',\n",
       "       'RIDRETH1', 'DMDCITZN', 'DMDEDUC2', 'DMDMARTL', 'DMDHHSIZ', 'WTINT2YR',\n",
       "       'SDMVPSU', 'SDMVSTRA', 'INDFMPIR', 'BPXSY1', 'BPXDI1', 'BPXSY2',\n",
       "       'BPXDI2', 'BMXWT', 'BMXHT', 'BMXBMI', 'BMXLEG', 'BMXARML', 'BMXARMC',\n",
       "       'BMXWAIST', 'HIQ210'],\n",
       "      dtype='object')"
      ]
     },
     "execution_count": 6,
     "metadata": {},
     "output_type": "execute_result"
    }
   ],
   "source": [
    "da.columnsumns"
   ]
  },
  {
   "cell_type": "code",
   "execution_count": 8,
   "id": "0a9f93af",
   "metadata": {},
   "outputs": [
    {
     "data": {
      "text/plain": [
       "SEQN          int64\n",
       "ALQ101      float64\n",
       "ALQ110      float64\n",
       "ALQ130      float64\n",
       "SMQ020        int64\n",
       "RIAGENDR      int64\n",
       "RIDAGEYR      int64\n",
       "RIDRETH1      int64\n",
       "DMDCITZN    float64\n",
       "DMDEDUC2    float64\n",
       "DMDMARTL    float64\n",
       "DMDHHSIZ      int64\n",
       "WTINT2YR    float64\n",
       "SDMVPSU       int64\n",
       "SDMVSTRA      int64\n",
       "INDFMPIR    float64\n",
       "BPXSY1      float64\n",
       "BPXDI1      float64\n",
       "BPXSY2      float64\n",
       "BPXDI2      float64\n",
       "BMXWT       float64\n",
       "BMXHT       float64\n",
       "BMXBMI      float64\n",
       "BMXLEG      float64\n",
       "BMXARML     float64\n",
       "BMXARMC     float64\n",
       "BMXWAIST    float64\n",
       "HIQ210      float64\n",
       "dtype: object"
      ]
     },
     "execution_count": 8,
     "metadata": {},
     "output_type": "execute_result"
    }
   ],
   "source": [
    "da.dtypes"
   ]
  },
  {
   "cell_type": "code",
   "execution_count": 9,
   "id": "114dc008",
   "metadata": {},
   "outputs": [],
   "source": [
    "w = da['DMDEDUC2']\n",
    "x = da.loc[:, \"DMDEDUC2\"]\n",
    "y = da.DMDEDUC2\n",
    "z = da.iloc[:, 9]  # DMDEDUC2 es la columna 9"
   ]
  },
  {
   "cell_type": "code",
   "execution_count": 11,
   "id": "3ca348d7",
   "metadata": {},
   "outputs": [
    {
     "name": "stdout",
     "output_type": "stream",
     "text": [
      "9.0\n",
      "9.0\n",
      "9.0\n",
      "9.0\n"
     ]
    }
   ],
   "source": [
    "print(w.max())\n",
    "print(x.max())\n",
    "print(y.max())\n",
    "print(z.max())"
   ]
  },
  {
   "cell_type": "code",
   "execution_count": 14,
   "id": "69d3859d",
   "metadata": {},
   "outputs": [
    {
     "name": "stdout",
     "output_type": "stream",
     "text": [
      "<class 'pandas.core.series.Series'>\n",
      "<class 'pandas.core.series.Series'>\n",
      "<class 'pandas.core.series.Series'>\n",
      "<class 'pandas.core.series.Series'>\n"
     ]
    }
   ],
   "source": [
    "print(type(w))\n",
    "print(type(x))\n",
    "print(type(y))\n",
    "print(type(z))"
   ]
  }
 ],
 "metadata": {
  "kernelspec": {
   "display_name": "Python 3 (ipykernel)",
   "language": "python",
   "name": "python3"
  },
  "language_info": {
   "codemirror_mode": {
    "name": "ipython",
    "version": 3
   },
   "file_extension": ".py",
   "mimetype": "text/x-python",
   "name": "python",
   "nbconvert_exporter": "python",
   "pygments_lexer": "ipython3",
   "version": "3.10.4"
  }
 },
 "nbformat": 4,
 "nbformat_minor": 5
}
